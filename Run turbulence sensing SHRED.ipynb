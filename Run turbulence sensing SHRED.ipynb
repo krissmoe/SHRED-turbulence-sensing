{
 "cells": [
  {
   "cell_type": "markdown",
   "id": "f31f7483",
   "metadata": {},
   "source": [
    "# Mapping surface height dynamics to flow physics in free-surface turbulent flow - Code tutorial"
   ]
  },
  {
   "cell_type": "markdown",
   "id": "ad36d434",
   "metadata": {},
   "source": []
  },
  {
   "cell_type": "markdown",
   "id": "67fe7f93",
   "metadata": {},
   "source": []
  },
  {
   "cell_type": "markdown",
   "id": "e9af3bd2",
   "metadata": {},
   "source": [
    "# Loading packages"
   ]
  },
  {
   "cell_type": "markdown",
   "id": "81aeded3",
   "metadata": {},
   "source": []
  },
  {
   "cell_type": "code",
   "execution_count": null,
   "id": "a21fead9",
   "metadata": {},
   "outputs": [],
   "source": []
  },
  {
   "cell_type": "code",
   "execution_count": null,
   "id": "9234724c",
   "metadata": {},
   "outputs": [],
   "source": [
    "\n",
    "import processdata3 as processdata         #this file contains all function for the processing, including how to run SHRED, calculate error metrics\n",
    "import plot_results3 as plot_results     #file with plotting functions\n",
    "import utilities3 as utilities       #file with different utility functions\n",
    "import models           #file includes the SHRED model\n"
   ]
  },
  {
   "cell_type": "markdown",
   "id": "c832842b",
   "metadata": {},
   "source": [
    "# Data compression\n",
    "\n",
    "As highlighted in the paper, in particular Section III A, we use the Singular Value Decomposition (SVD) to decompose the surface and velocity fields and work in the compressed space in the reconstruction. \n",
    "\n",
    "\n",
    "In the following cell, we calculate the SVD modes and store the **U**, **S** and **V** matrices in files. "
   ]
  },
  {
   "cell_type": "code",
   "execution_count": null,
   "id": "13a15c6e",
   "metadata": {},
   "outputs": [],
   "source": [
    "#calculate and save SVD matrices\n",
    "\n",
    "\n",
    "utilities.save_svd_full(eta_fluc, u_fluc, ens, case, variable, forecast=False, DNS=False, DNS_plane=None, DNS_surf=False, DNS_case='RE2500', new_teetank=False)\n",
    "\n",
    "#save all singular values for usage\n",
    "utilities.save_singular_values_full(DNS_case, DNS_plane)"
   ]
  },
  {
   "cell_type": "markdown",
   "id": "d291dfff",
   "metadata": {},
   "source": [
    "#### Compressing DNS Case S2\n",
    "\n",
    "\n",
    "In the following cell, we execute the function for calculating certain SVD modes, the singular value profile and turbulent spectra for different ranks, to reproduce Figs. 3 and 4 in the paper. "
   ]
  },
  {
   "cell_type": "code",
   "execution_count": null,
   "id": "1b171320",
   "metadata": {},
   "outputs": [],
   "source": [
    "case='S2'                       \n",
    "plane=1                                 #horizontal plane of choice -- for case S1: planes between [1, 57], for S2: [1,76]\n",
    "rank_list=[10900,1000,500,250,100,50,10] #list of ranks for the spectral plot\n",
    "labels=rank_list                        #make string labels for the ranks for the spectral plot\n",
    "mode_list = [0,1,2,9,49,249,499,999]    #list of rank modes for the plots of U and V modes\n",
    "\n",
    "\n",
    "plot_results.plot_svd_and_spectra_DNS(case,plane, rank_list, mode_list, labels)"
   ]
  }
 ],
 "metadata": {
  "kernelspec": {
   "display_name": "myenv",
   "language": "python",
   "name": "python3"
  },
  "language_info": {
   "codemirror_mode": {
    "name": "ipython",
    "version": 3
   },
   "file_extension": ".py",
   "mimetype": "text/x-python",
   "name": "python",
   "nbconvert_exporter": "python",
   "pygments_lexer": "ipython3",
   "version": "3.10.10"
  }
 },
 "nbformat": 4,
 "nbformat_minor": 5
}
